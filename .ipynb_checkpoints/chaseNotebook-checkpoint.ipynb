{
 "cells": [
  {
   "cell_type": "markdown",
   "metadata": {},
   "source": [
    "# Firearm Seizure Data\n",
    "## Chase Lane"
   ]
  },
  {
   "cell_type": "markdown",
   "metadata": {},
   "source": [
    "I chose the Firearm Seizure Data because of the extensive list of weaponry confiscated it includes and that it interests me. This can provide a unique perspective on the neighborhoods as this isn't something generally thought about when considering a neighborhood. It aligns with our overall theme of safety."
   ]
  },
  {
   "cell_type": "code",
   "execution_count": 10,
   "metadata": {},
   "outputs": [
    {
     "data": {
      "text/html": [
       "<div>\n",
       "<style scoped>\n",
       "    .dataframe tbody tr th:only-of-type {\n",
       "        vertical-align: middle;\n",
       "    }\n",
       "\n",
       "    .dataframe tbody tr th {\n",
       "        vertical-align: top;\n",
       "    }\n",
       "\n",
       "    .dataframe thead th {\n",
       "        text-align: right;\n",
       "    }\n",
       "</style>\n",
       "<table border=\"1\" class=\"dataframe\">\n",
       "  <thead>\n",
       "    <tr style=\"text-align: right;\">\n",
       "      <th></th>\n",
       "      <th>address</th>\n",
       "      <th>total_count</th>\n",
       "      <th>other_count</th>\n",
       "      <th>pistol_count</th>\n",
       "      <th>revolver_count</th>\n",
       "      <th>rifle_count</th>\n",
       "      <th>shotgun_count</th>\n",
       "      <th>year</th>\n",
       "      <th>month</th>\n",
       "      <th>dow</th>\n",
       "      <th>neighborhood</th>\n",
       "      <th>council_district</th>\n",
       "      <th>ward</th>\n",
       "      <th>tract</th>\n",
       "      <th>public_works_division</th>\n",
       "      <th>police_zone</th>\n",
       "      <th>fire_zone</th>\n",
       "      <th>latitude</th>\n",
       "      <th>longitude</th>\n",
       "    </tr>\n",
       "  </thead>\n",
       "  <tbody>\n",
       "    <tr>\n",
       "      <th>0</th>\n",
       "      <td>1700 BLOCK ARLINGTON AVE PITTSBURGH, PA 15210</td>\n",
       "      <td>2</td>\n",
       "      <td>0</td>\n",
       "      <td>1</td>\n",
       "      <td>1</td>\n",
       "      <td>0</td>\n",
       "      <td>0</td>\n",
       "      <td>2015</td>\n",
       "      <td>1</td>\n",
       "      <td>0</td>\n",
       "      <td>Mount Oliver Borough</td>\n",
       "      <td>3.0</td>\n",
       "      <td>0.0</td>\n",
       "      <td>4.200317e+10</td>\n",
       "      <td>0.0</td>\n",
       "      <td>3</td>\n",
       "      <td>4-6</td>\n",
       "      <td>40.417619</td>\n",
       "      <td>-79.986436</td>\n",
       "    </tr>\n",
       "    <tr>\n",
       "      <th>1</th>\n",
       "      <td>BREVET WAY &amp; MINTON ST PITTSBURGH, PA 15204</td>\n",
       "      <td>1</td>\n",
       "      <td>0</td>\n",
       "      <td>1</td>\n",
       "      <td>0</td>\n",
       "      <td>0</td>\n",
       "      <td>0</td>\n",
       "      <td>2015</td>\n",
       "      <td>1</td>\n",
       "      <td>0</td>\n",
       "      <td>Sheraden</td>\n",
       "      <td>2.0</td>\n",
       "      <td>20.0</td>\n",
       "      <td>4.200356e+10</td>\n",
       "      <td>5.0</td>\n",
       "      <td>6</td>\n",
       "      <td>1-16</td>\n",
       "      <td>40.456904</td>\n",
       "      <td>-80.052328</td>\n",
       "    </tr>\n",
       "    <tr>\n",
       "      <th>2</th>\n",
       "      <td>TERRACE ST &amp; WHITRIDGE ST PITTSBURGH, PA 15213</td>\n",
       "      <td>1</td>\n",
       "      <td>0</td>\n",
       "      <td>1</td>\n",
       "      <td>0</td>\n",
       "      <td>0</td>\n",
       "      <td>0</td>\n",
       "      <td>2015</td>\n",
       "      <td>1</td>\n",
       "      <td>0</td>\n",
       "      <td>Terrace Village</td>\n",
       "      <td>6.0</td>\n",
       "      <td>4.0</td>\n",
       "      <td>4.200305e+10</td>\n",
       "      <td>3.0</td>\n",
       "      <td>2</td>\n",
       "      <td>2-10</td>\n",
       "      <td>40.441185</td>\n",
       "      <td>-79.968527</td>\n",
       "    </tr>\n",
       "    <tr>\n",
       "      <th>3</th>\n",
       "      <td>3500 BLOCK GERBER AVE PITTSBURGH, PA 15212</td>\n",
       "      <td>1</td>\n",
       "      <td>0</td>\n",
       "      <td>1</td>\n",
       "      <td>0</td>\n",
       "      <td>0</td>\n",
       "      <td>0</td>\n",
       "      <td>2015</td>\n",
       "      <td>1</td>\n",
       "      <td>0</td>\n",
       "      <td>Brighton Heights</td>\n",
       "      <td>1.0</td>\n",
       "      <td>27.0</td>\n",
       "      <td>4.200327e+10</td>\n",
       "      <td>1.0</td>\n",
       "      <td>1</td>\n",
       "      <td>1-14</td>\n",
       "      <td>40.479530</td>\n",
       "      <td>-80.033477</td>\n",
       "    </tr>\n",
       "    <tr>\n",
       "      <th>4</th>\n",
       "      <td>7500 BLOCK KELLY ST PITTSBURGH, PA 15208</td>\n",
       "      <td>1</td>\n",
       "      <td>0</td>\n",
       "      <td>1</td>\n",
       "      <td>0</td>\n",
       "      <td>0</td>\n",
       "      <td>0</td>\n",
       "      <td>2015</td>\n",
       "      <td>1</td>\n",
       "      <td>0</td>\n",
       "      <td>NaN</td>\n",
       "      <td>NaN</td>\n",
       "      <td>NaN</td>\n",
       "      <td>NaN</td>\n",
       "      <td>NaN</td>\n",
       "      <td>5</td>\n",
       "      <td>NaN</td>\n",
       "      <td>NaN</td>\n",
       "      <td>NaN</td>\n",
       "    </tr>\n",
       "  </tbody>\n",
       "</table>\n",
       "</div>"
      ],
      "text/plain": [
       "                                          address  total_count  other_count  \\\n",
       "0   1700 BLOCK ARLINGTON AVE PITTSBURGH, PA 15210            2            0   \n",
       "1     BREVET WAY & MINTON ST PITTSBURGH, PA 15204            1            0   \n",
       "2  TERRACE ST & WHITRIDGE ST PITTSBURGH, PA 15213            1            0   \n",
       "3      3500 BLOCK GERBER AVE PITTSBURGH, PA 15212            1            0   \n",
       "4        7500 BLOCK KELLY ST PITTSBURGH, PA 15208            1            0   \n",
       "\n",
       "   pistol_count  revolver_count  rifle_count  shotgun_count  year  month  dow  \\\n",
       "0             1               1            0              0  2015      1    0   \n",
       "1             1               0            0              0  2015      1    0   \n",
       "2             1               0            0              0  2015      1    0   \n",
       "3             1               0            0              0  2015      1    0   \n",
       "4             1               0            0              0  2015      1    0   \n",
       "\n",
       "           neighborhood  council_district  ward         tract  \\\n",
       "0  Mount Oliver Borough               3.0   0.0  4.200317e+10   \n",
       "1              Sheraden               2.0  20.0  4.200356e+10   \n",
       "2       Terrace Village               6.0   4.0  4.200305e+10   \n",
       "3      Brighton Heights               1.0  27.0  4.200327e+10   \n",
       "4                   NaN               NaN   NaN           NaN   \n",
       "\n",
       "   public_works_division police_zone fire_zone   latitude  longitude  \n",
       "0                    0.0           3       4-6  40.417619 -79.986436  \n",
       "1                    5.0           6      1-16  40.456904 -80.052328  \n",
       "2                    3.0           2      2-10  40.441185 -79.968527  \n",
       "3                    1.0           1      1-14  40.479530 -80.033477  \n",
       "4                    NaN           5       NaN        NaN        NaN  "
      ]
     },
     "execution_count": 10,
     "metadata": {},
     "output_type": "execute_result"
    }
   ],
   "source": [
    "import pandas as pd\n",
    "firearm = pd.read_csv(\"https://data.wprdc.org/datastore/dump/e967381d-d7e9-48e3-a2a2-39262f7fa5c4\")\n",
    "firearmDF = pd.DataFrame(firearm)\n",
    "\n",
    "firearmDF.head()"
   ]
  },
  {
   "cell_type": "code",
   "execution_count": 9,
   "metadata": {},
   "outputs": [
    {
     "data": {
      "text/plain": [
       "89"
      ]
     },
     "execution_count": 9,
     "metadata": {},
     "output_type": "execute_result"
    }
   ],
   "source": [
    "# seeing how many neighborhoods are contained in the dataset\n",
    "neighborhoods = []\n",
    "for n in firearmDF[\"neighborhood\"]:\n",
    "    if n not in neighborhoods:\n",
    "        neighborhoods.append(n)\n",
    "len(neighborhoods)"
   ]
  },
  {
   "cell_type": "markdown",
   "metadata": {},
   "source": [
    "From the dataset we can obtain useful information such as the neighborhood where the firearm was confiscated at, the type of firearm, and the year. By using the number of firearms collected per neighborhood, we can see which neighborhood is considered the safest. I will also break the data down by year and see if there are any significant changes throughout the years. "
   ]
  },
  {
   "cell_type": "code",
   "execution_count": 11,
   "metadata": {},
   "outputs": [
    {
     "data": {
      "text/plain": [
       "2015"
      ]
     },
     "execution_count": 11,
     "metadata": {},
     "output_type": "execute_result"
    }
   ],
   "source": [
    "min(firearmDF[\"year\"])"
   ]
  },
  {
   "cell_type": "code",
   "execution_count": 12,
   "metadata": {},
   "outputs": [
    {
     "data": {
      "text/plain": [
       "2022"
      ]
     },
     "execution_count": 12,
     "metadata": {},
     "output_type": "execute_result"
    }
   ],
   "source": [
    "max(firearmDF[\"year\"])"
   ]
  },
  {
   "cell_type": "code",
   "execution_count": null,
   "metadata": {},
   "outputs": [],
   "source": []
  }
 ],
 "metadata": {
  "kernelspec": {
   "display_name": "Python 3",
   "language": "python",
   "name": "python3"
  },
  "language_info": {
   "codemirror_mode": {
    "name": "ipython",
    "version": 3
   },
   "file_extension": ".py",
   "mimetype": "text/x-python",
   "name": "python",
   "nbconvert_exporter": "python",
   "pygments_lexer": "ipython3",
   "version": "3.8.3"
  }
 },
 "nbformat": 4,
 "nbformat_minor": 4
}
