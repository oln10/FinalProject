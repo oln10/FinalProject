{
 "cells": [
  {
   "cell_type": "code",
   "execution_count": 39,
   "metadata": {},
   "outputs": [],
   "source": [
    "import pandas as pd\n",
    "import numpy as np\n",
    "%matplotlib inline\n",
    "import matplotlib.pyplot as plt"
   ]
  },
  {
   "cell_type": "code",
   "execution_count": 40,
   "metadata": {},
   "outputs": [],
   "source": [
    "overdoses = pd.read_csv(\"FatalOverdoses.csv\")"
   ]
  },
  {
   "cell_type": "markdown",
   "metadata": {},
   "source": [
    "### A display of the first 10 lines of the csv file showing accidental overdoses:"
   ]
  },
  {
   "cell_type": "code",
   "execution_count": 41,
   "metadata": {},
   "outputs": [
    {
     "data": {
      "text/html": [
       "<div>\n",
       "<style scoped>\n",
       "    .dataframe tbody tr th:only-of-type {\n",
       "        vertical-align: middle;\n",
       "    }\n",
       "\n",
       "    .dataframe tbody tr th {\n",
       "        vertical-align: top;\n",
       "    }\n",
       "\n",
       "    .dataframe thead th {\n",
       "        text-align: right;\n",
       "    }\n",
       "</style>\n",
       "<table border=\"1\" class=\"dataframe\">\n",
       "  <thead>\n",
       "    <tr style=\"text-align: right;\">\n",
       "      <th></th>\n",
       "      <th>death_date_and_time</th>\n",
       "      <th>manner_of_death</th>\n",
       "      <th>age</th>\n",
       "      <th>sex</th>\n",
       "      <th>race</th>\n",
       "      <th>case_dispo</th>\n",
       "      <th>combined_od1</th>\n",
       "      <th>combined_od2</th>\n",
       "      <th>combined_od3</th>\n",
       "      <th>combined_od4</th>\n",
       "      <th>combined_od5</th>\n",
       "      <th>combined_od6</th>\n",
       "      <th>combined_od7</th>\n",
       "      <th>combined_od8</th>\n",
       "      <th>combined_od9</th>\n",
       "      <th>combined_od10</th>\n",
       "      <th>incident_zip</th>\n",
       "      <th>decedent_zip</th>\n",
       "      <th>case_year</th>\n",
       "    </tr>\n",
       "  </thead>\n",
       "  <tbody>\n",
       "    <tr>\n",
       "      <th>0</th>\n",
       "      <td>2021-03-29T16:02:00</td>\n",
       "      <td>Accident</td>\n",
       "      <td>41</td>\n",
       "      <td>F</td>\n",
       "      <td>W</td>\n",
       "      <td>MO</td>\n",
       "      <td>Heroin</td>\n",
       "      <td>Fentanyl</td>\n",
       "      <td>Acetyl Fentanyl</td>\n",
       "      <td>Oxycodone</td>\n",
       "      <td>Phenobarbital</td>\n",
       "      <td>Etizolam</td>\n",
       "      <td>Trazodone</td>\n",
       "      <td>Clonazepam</td>\n",
       "      <td>Acetaminophen</td>\n",
       "      <td>NaN</td>\n",
       "      <td>15110</td>\n",
       "      <td>NaN</td>\n",
       "      <td>2021</td>\n",
       "    </tr>\n",
       "    <tr>\n",
       "      <th>1</th>\n",
       "      <td>2018-06-20T18:14:00</td>\n",
       "      <td>Accident</td>\n",
       "      <td>50</td>\n",
       "      <td>F</td>\n",
       "      <td>W</td>\n",
       "      <td>MO</td>\n",
       "      <td>Alcohol</td>\n",
       "      <td>Carfentanil</td>\n",
       "      <td>Citalopram/Escitalopram</td>\n",
       "      <td>Clonazepam</td>\n",
       "      <td>Cocaine</td>\n",
       "      <td>Diphenhydramine</td>\n",
       "      <td>Methadone</td>\n",
       "      <td>Mirtazapine</td>\n",
       "      <td>Para-FluoroisobutyrylFentanyl</td>\n",
       "      <td>NaN</td>\n",
       "      <td>15235</td>\n",
       "      <td>NaN</td>\n",
       "      <td>2018</td>\n",
       "    </tr>\n",
       "    <tr>\n",
       "      <th>2</th>\n",
       "      <td>2018-04-23T20:34:00</td>\n",
       "      <td>Accident</td>\n",
       "      <td>40</td>\n",
       "      <td>M</td>\n",
       "      <td>W</td>\n",
       "      <td>MO</td>\n",
       "      <td>Cocaine</td>\n",
       "      <td>Despropionyl Fentanyl 4-ANPP</td>\n",
       "      <td>Fentanyl</td>\n",
       "      <td>Heroin</td>\n",
       "      <td>Methadone</td>\n",
       "      <td>Methoxyacetyl Fentanyl</td>\n",
       "      <td>Nordiazepam</td>\n",
       "      <td>Para-FluoroisobutyrylFentanyl</td>\n",
       "      <td>Phenobarbital</td>\n",
       "      <td>NaN</td>\n",
       "      <td>15209</td>\n",
       "      <td>NaN</td>\n",
       "      <td>2018</td>\n",
       "    </tr>\n",
       "    <tr>\n",
       "      <th>3</th>\n",
       "      <td>2018-01-24T13:47:00</td>\n",
       "      <td>Accident</td>\n",
       "      <td>48</td>\n",
       "      <td>F</td>\n",
       "      <td>W</td>\n",
       "      <td>MO</td>\n",
       "      <td>Acetaminophen</td>\n",
       "      <td>Alcohol</td>\n",
       "      <td>Butalbital</td>\n",
       "      <td>Cyclobenzaprine</td>\n",
       "      <td>Despropionyl Fentanyl 4-ANPP</td>\n",
       "      <td>Dextromethorphan</td>\n",
       "      <td>Fentanyl</td>\n",
       "      <td>Hydrocodone</td>\n",
       "      <td>Tramadol</td>\n",
       "      <td>NaN</td>\n",
       "      <td>15227</td>\n",
       "      <td>NaN</td>\n",
       "      <td>2018</td>\n",
       "    </tr>\n",
       "    <tr>\n",
       "      <th>4</th>\n",
       "      <td>2017-04-18T13:37:00</td>\n",
       "      <td>Accident</td>\n",
       "      <td>54</td>\n",
       "      <td>M</td>\n",
       "      <td>W</td>\n",
       "      <td>MO</td>\n",
       "      <td>Carfentanil</td>\n",
       "      <td>Chlordiazepoxide</td>\n",
       "      <td>Diazepam</td>\n",
       "      <td>Fentanyl</td>\n",
       "      <td>Heroin</td>\n",
       "      <td>Oxazepam</td>\n",
       "      <td>Para-Fluorobutyryl Fentanyl/FIBF</td>\n",
       "      <td>Temazepam</td>\n",
       "      <td>Tramadol</td>\n",
       "      <td>NaN</td>\n",
       "      <td>15221</td>\n",
       "      <td>NaN</td>\n",
       "      <td>2017</td>\n",
       "    </tr>\n",
       "    <tr>\n",
       "      <th>5</th>\n",
       "      <td>2021-03-30T16:15:00</td>\n",
       "      <td>Accident</td>\n",
       "      <td>54</td>\n",
       "      <td>M</td>\n",
       "      <td>W</td>\n",
       "      <td>MO</td>\n",
       "      <td>Methadone</td>\n",
       "      <td>Buprenorphine</td>\n",
       "      <td>Citalopram</td>\n",
       "      <td>Estilopram</td>\n",
       "      <td>Clonazepam</td>\n",
       "      <td>Oxycodone</td>\n",
       "      <td>Hydrocodone</td>\n",
       "      <td>Tramadol</td>\n",
       "      <td>NaN</td>\n",
       "      <td>NaN</td>\n",
       "      <td>15215</td>\n",
       "      <td>NaN</td>\n",
       "      <td>2021</td>\n",
       "    </tr>\n",
       "    <tr>\n",
       "      <th>6</th>\n",
       "      <td>2016-11-16T11:00:00</td>\n",
       "      <td>Accidents</td>\n",
       "      <td>49</td>\n",
       "      <td>M</td>\n",
       "      <td>W</td>\n",
       "      <td>MO</td>\n",
       "      <td>Alcohol</td>\n",
       "      <td>Fentanyl</td>\n",
       "      <td>NaN</td>\n",
       "      <td>NaN</td>\n",
       "      <td>NaN</td>\n",
       "      <td>NaN</td>\n",
       "      <td>NaN</td>\n",
       "      <td>NaN</td>\n",
       "      <td>NaN</td>\n",
       "      <td>NaN</td>\n",
       "      <td>15126</td>\n",
       "      <td>NaN</td>\n",
       "      <td>2016</td>\n",
       "    </tr>\n",
       "    <tr>\n",
       "      <th>7</th>\n",
       "      <td>2016-11-15T17:48:00</td>\n",
       "      <td>Accident</td>\n",
       "      <td>26</td>\n",
       "      <td>M</td>\n",
       "      <td>W</td>\n",
       "      <td>MO</td>\n",
       "      <td>Fentanyl</td>\n",
       "      <td>NaN</td>\n",
       "      <td>NaN</td>\n",
       "      <td>NaN</td>\n",
       "      <td>NaN</td>\n",
       "      <td>NaN</td>\n",
       "      <td>NaN</td>\n",
       "      <td>NaN</td>\n",
       "      <td>NaN</td>\n",
       "      <td>NaN</td>\n",
       "      <td>15088</td>\n",
       "      <td>NaN</td>\n",
       "      <td>2016</td>\n",
       "    </tr>\n",
       "    <tr>\n",
       "      <th>8</th>\n",
       "      <td>2016-11-13T13:53:00</td>\n",
       "      <td>Accidents</td>\n",
       "      <td>19</td>\n",
       "      <td>M</td>\n",
       "      <td>W</td>\n",
       "      <td>MO</td>\n",
       "      <td>Fentanyl</td>\n",
       "      <td>NaN</td>\n",
       "      <td>NaN</td>\n",
       "      <td>NaN</td>\n",
       "      <td>NaN</td>\n",
       "      <td>NaN</td>\n",
       "      <td>NaN</td>\n",
       "      <td>NaN</td>\n",
       "      <td>NaN</td>\n",
       "      <td>NaN</td>\n",
       "      <td>15209</td>\n",
       "      <td>NaN</td>\n",
       "      <td>2016</td>\n",
       "    </tr>\n",
       "    <tr>\n",
       "      <th>9</th>\n",
       "      <td>2016-11-11T12:32:00</td>\n",
       "      <td>Accidents</td>\n",
       "      <td>49</td>\n",
       "      <td>M</td>\n",
       "      <td>B</td>\n",
       "      <td>MO</td>\n",
       "      <td>Fentanyl</td>\n",
       "      <td>Heroin</td>\n",
       "      <td>NaN</td>\n",
       "      <td>NaN</td>\n",
       "      <td>NaN</td>\n",
       "      <td>NaN</td>\n",
       "      <td>NaN</td>\n",
       "      <td>NaN</td>\n",
       "      <td>NaN</td>\n",
       "      <td>NaN</td>\n",
       "      <td>15219</td>\n",
       "      <td>NaN</td>\n",
       "      <td>2016</td>\n",
       "    </tr>\n",
       "  </tbody>\n",
       "</table>\n",
       "</div>"
      ],
      "text/plain": [
       "   death_date_and_time manner_of_death  age sex race case_dispo  \\\n",
       "0  2021-03-29T16:02:00        Accident   41   F    W         MO   \n",
       "1  2018-06-20T18:14:00        Accident   50   F    W         MO   \n",
       "2  2018-04-23T20:34:00        Accident   40   M    W         MO   \n",
       "3  2018-01-24T13:47:00        Accident   48   F    W         MO   \n",
       "4  2017-04-18T13:37:00        Accident   54   M    W         MO   \n",
       "5  2021-03-30T16:15:00        Accident   54   M    W         MO   \n",
       "6  2016-11-16T11:00:00       Accidents   49   M    W         MO   \n",
       "7  2016-11-15T17:48:00        Accident   26   M    W         MO   \n",
       "8  2016-11-13T13:53:00       Accidents   19   M    W         MO   \n",
       "9  2016-11-11T12:32:00       Accidents   49   M    B         MO   \n",
       "\n",
       "    combined_od1                  combined_od2             combined_od3  \\\n",
       "0         Heroin                      Fentanyl          Acetyl Fentanyl   \n",
       "1        Alcohol                   Carfentanil  Citalopram/Escitalopram   \n",
       "2        Cocaine  Despropionyl Fentanyl 4-ANPP                 Fentanyl   \n",
       "3  Acetaminophen                       Alcohol               Butalbital   \n",
       "4    Carfentanil              Chlordiazepoxide                 Diazepam   \n",
       "5      Methadone                 Buprenorphine               Citalopram   \n",
       "6        Alcohol                      Fentanyl                      NaN   \n",
       "7       Fentanyl                           NaN                      NaN   \n",
       "8       Fentanyl                           NaN                      NaN   \n",
       "9       Fentanyl                        Heroin                      NaN   \n",
       "\n",
       "      combined_od4                  combined_od5            combined_od6  \\\n",
       "0        Oxycodone                 Phenobarbital                Etizolam   \n",
       "1       Clonazepam                       Cocaine         Diphenhydramine   \n",
       "2           Heroin                     Methadone  Methoxyacetyl Fentanyl   \n",
       "3  Cyclobenzaprine  Despropionyl Fentanyl 4-ANPP        Dextromethorphan   \n",
       "4         Fentanyl                        Heroin                Oxazepam   \n",
       "5       Estilopram                    Clonazepam               Oxycodone   \n",
       "6              NaN                           NaN                     NaN   \n",
       "7              NaN                           NaN                     NaN   \n",
       "8              NaN                           NaN                     NaN   \n",
       "9              NaN                           NaN                     NaN   \n",
       "\n",
       "                       combined_od7                   combined_od8  \\\n",
       "0                         Trazodone                     Clonazepam   \n",
       "1                         Methadone                    Mirtazapine   \n",
       "2                       Nordiazepam  Para-FluoroisobutyrylFentanyl   \n",
       "3                          Fentanyl                    Hydrocodone   \n",
       "4  Para-Fluorobutyryl Fentanyl/FIBF                      Temazepam   \n",
       "5                       Hydrocodone                       Tramadol   \n",
       "6                               NaN                            NaN   \n",
       "7                               NaN                            NaN   \n",
       "8                               NaN                            NaN   \n",
       "9                               NaN                            NaN   \n",
       "\n",
       "                    combined_od9  combined_od10 incident_zip  decedent_zip  \\\n",
       "0                  Acetaminophen            NaN        15110           NaN   \n",
       "1  Para-FluoroisobutyrylFentanyl            NaN        15235           NaN   \n",
       "2                  Phenobarbital            NaN        15209           NaN   \n",
       "3                       Tramadol            NaN        15227           NaN   \n",
       "4                       Tramadol            NaN        15221           NaN   \n",
       "5                            NaN            NaN        15215           NaN   \n",
       "6                            NaN            NaN        15126           NaN   \n",
       "7                            NaN            NaN        15088           NaN   \n",
       "8                            NaN            NaN        15209           NaN   \n",
       "9                            NaN            NaN        15219           NaN   \n",
       "\n",
       "   case_year  \n",
       "0       2021  \n",
       "1       2018  \n",
       "2       2018  \n",
       "3       2018  \n",
       "4       2017  \n",
       "5       2021  \n",
       "6       2016  \n",
       "7       2016  \n",
       "8       2016  \n",
       "9       2016  "
      ]
     },
     "execution_count": 41,
     "metadata": {},
     "output_type": "execute_result"
    }
   ],
   "source": [
    "overdoses.head(10)"
   ]
  },
  {
   "cell_type": "code",
   "execution_count": 42,
   "metadata": {},
   "outputs": [],
   "source": [
    "overdoses1 = overdoses.groupby(\"case_year\").count()"
   ]
  },
  {
   "cell_type": "markdown",
   "metadata": {},
   "source": [
    "### Here is a plot of the count of the number of overdoses each year "
   ]
  },
  {
   "cell_type": "code",
   "execution_count": 43,
   "metadata": {},
   "outputs": [
    {
     "data": {
      "text/plain": [
       "<matplotlib.axes._subplots.AxesSubplot at 0x7f76c72bad60>"
      ]
     },
     "execution_count": 43,
     "metadata": {},
     "output_type": "execute_result"
    },
    {
     "data": {
      "image/png": "[encoded data removed]",
      "text/plain": [
       "<Figure size 432x288 with 1 Axes>"
      ]
     },
     "metadata": {
      "needs_background": "light"
     },
     "output_type": "display_data"
    }
   ],
   "source": [
    "overdoses1[\"death_date_and_time\"].plot()"
   ]
  },
  {
   "cell_type": "markdown",
   "metadata": {},
   "source": [
    "### And here is a plot of the cumulative sum of cases per year"
   ]
  },
  {
   "cell_type": "code",
   "execution_count": 44,
   "metadata": {},
   "outputs": [
    {
     "data": {
      "text/plain": [
       "<matplotlib.axes._subplots.AxesSubplot at 0x7f76c71a12b0>"
      ]
     },
     "execution_count": 44,
     "metadata": {},
     "output_type": "execute_result"
    },
    {
     "data": {
      "image/png": "[encoded data removed]",
      "text/plain": [
       "<Figure size 432x288 with 1 Axes>"
      ]
     },
     "metadata": {
      "needs_background": "light"
     },
     "output_type": "display_data"
    }
   ],
   "source": [
    "overdoses1[\"death_date_and_time\"].cumsum().plot()"
   ]
  },
  {
   "cell_type": "markdown",
   "metadata": {},
   "source": [
    "### This just gives an idea of how the accidental overdoses in all of Pittsburgh/Allegheny County are changing year to year"
   ]
  },
  {
   "cell_type": "code",
   "execution_count": 45,
   "metadata": {},
   "outputs": [],
   "source": [
    "overdoses.rename(columns=({ 'incident_zip': 'Incident Zip', 'death_date_and_time': 'Count'}), inplace=True)\n",
    "overdoses1 = overdoses.groupby(\"Incident Zip\").count()\n",
    "overdoses2 = overdoses1.filter(like = '151', axis = 0)\n",
    "overdoses3 = overdoses1.filter(like = '152', axis = 0)\n",
    "overdoses4 = overdoses1.filter(like = '153', axis = 0)\n",
    "overdoses5 = pd.concat([overdoses2, overdoses3])\n",
    "overdoses5 = pd.concat([overdoses5, overdoses4])"
   ]
  },
  {
   "cell_type": "markdown",
   "metadata": {},
   "source": [
    "### Here I am counting the number of overdoses that occurred in each zip code. This is a plot of this data"
   ]
  },
  {
   "cell_type": "code",
   "execution_count": 46,
   "metadata": {},
   "outputs": [
    {
     "data": {
      "text/plain": [
       "<matplotlib.axes._subplots.AxesSubplot at 0x7f76c717a880>"
      ]
     },
     "execution_count": 46,
     "metadata": {},
     "output_type": "execute_result"
    },
    {
     "data": {
      "image/png": "[encoded data removed]",
      "text/plain": [
       "<Figure size 432x288 with 1 Axes>"
      ]
     },
     "metadata": {
      "needs_background": "light"
     },
     "output_type": "display_data"
    }
   ],
   "source": [
    "overdoses = overdoses5.iloc[0:, :1]\n",
    "overdoses1 = overdoses[overdoses.Count > 20]\n",
    "overdoses1.plot()"
   ]
  },
  {
   "cell_type": "markdown",
   "metadata": {},
   "source": [
    "### This plot isn't the most helpful, as there are it is hard to look at the specific zip codes and exact counts of overdoses in each of those zip codes. "
   ]
  },
  {
   "cell_type": "markdown",
   "metadata": {},
   "source": [
    "### Instead, I will sort the data based on the number of counts of overdoses, which will allow me to see the zip codes with the fewest number of overdoses. "
   ]
  },
  {
   "cell_type": "code",
   "execution_count": 53,
   "metadata": {},
   "outputs": [
    {
     "data": {
      "text/html": [
       "<div>\n",
       "<style scoped>\n",
       "    .dataframe tbody tr th:only-of-type {\n",
       "        vertical-align: middle;\n",
       "    }\n",
       "\n",
       "    .dataframe tbody tr th {\n",
       "        vertical-align: top;\n",
       "    }\n",
       "\n",
       "    .dataframe thead th {\n",
       "        text-align: right;\n",
       "    }\n",
       "</style>\n",
       "<table border=\"1\" class=\"dataframe\">\n",
       "  <thead>\n",
       "    <tr style=\"text-align: right;\">\n",
       "      <th></th>\n",
       "      <th>Count</th>\n",
       "    </tr>\n",
       "    <tr>\n",
       "      <th>Incident Zip</th>\n",
       "      <th></th>\n",
       "    </tr>\n",
       "  </thead>\n",
       "  <tbody>\n",
       "    <tr>\n",
       "      <th>15148</th>\n",
       "      <td>21</td>\n",
       "    </tr>\n",
       "    <tr>\n",
       "      <th>15126</th>\n",
       "      <td>21</td>\n",
       "    </tr>\n",
       "    <tr>\n",
       "      <th>15139</th>\n",
       "      <td>22</td>\n",
       "    </tr>\n",
       "    <tr>\n",
       "      <th>15129</th>\n",
       "      <td>23</td>\n",
       "    </tr>\n",
       "    <tr>\n",
       "      <th>15131</th>\n",
       "      <td>24</td>\n",
       "    </tr>\n",
       "    <tr>\n",
       "      <th>15241</th>\n",
       "      <td>27</td>\n",
       "    </tr>\n",
       "    <tr>\n",
       "      <th>15238</th>\n",
       "      <td>28</td>\n",
       "    </tr>\n",
       "    <tr>\n",
       "      <th>15116</th>\n",
       "      <td>29</td>\n",
       "    </tr>\n",
       "    <tr>\n",
       "      <th>15143</th>\n",
       "      <td>30</td>\n",
       "    </tr>\n",
       "    <tr>\n",
       "      <th>15228</th>\n",
       "      <td>34</td>\n",
       "    </tr>\n",
       "    <tr>\n",
       "      <th>15140</th>\n",
       "      <td>34</td>\n",
       "    </tr>\n",
       "    <tr>\n",
       "      <th>15222</th>\n",
       "      <td>36</td>\n",
       "    </tr>\n",
       "    <tr>\n",
       "      <th>15217</th>\n",
       "      <td>39</td>\n",
       "    </tr>\n",
       "    <tr>\n",
       "      <th>15145</th>\n",
       "      <td>42</td>\n",
       "    </tr>\n",
       "    <tr>\n",
       "      <th>15101</th>\n",
       "      <td>42</td>\n",
       "    </tr>\n",
       "    <tr>\n",
       "      <th>15213</th>\n",
       "      <td>44</td>\n",
       "    </tr>\n",
       "    <tr>\n",
       "      <th>15110</th>\n",
       "      <td>44</td>\n",
       "    </tr>\n",
       "    <tr>\n",
       "      <th>15137</th>\n",
       "      <td>46</td>\n",
       "    </tr>\n",
       "    <tr>\n",
       "      <th>15218</th>\n",
       "      <td>47</td>\n",
       "    </tr>\n",
       "    <tr>\n",
       "      <th>15239</th>\n",
       "      <td>48</td>\n",
       "    </tr>\n",
       "  </tbody>\n",
       "</table>\n",
       "</div>"
      ],
      "text/plain": [
       "              Count\n",
       "Incident Zip       \n",
       "15148            21\n",
       "15126            21\n",
       "15139            22\n",
       "15129            23\n",
       "15131            24\n",
       "15241            27\n",
       "15238            28\n",
       "15116            29\n",
       "15143            30\n",
       "15228            34\n",
       "15140            34\n",
       "15222            36\n",
       "15217            39\n",
       "15145            42\n",
       "15101            42\n",
       "15213            44\n",
       "15110            44\n",
       "15137            46\n",
       "15218            47\n",
       "15239            48"
      ]
     },
     "execution_count": 53,
     "metadata": {},
     "output_type": "execute_result"
    }
   ],
   "source": [
    "overdoses1 = overdoses1.sort_values(by=[\"Count\"], ascending=True)\n",
    "overdoses1.head(20)"
   ]
  },
  {
   "cell_type": "code",
   "execution_count": 82,
   "metadata": {},
   "outputs": [
    {
     "data": {
      "text/plain": [
       "<matplotlib.axes._subplots.AxesSubplot at 0x7f76c6578130>"
      ]
     },
     "execution_count": 82,
     "metadata": {},
     "output_type": "execute_result"
    },
    {
     "data": {
      "image/png": "[encoded data removed]",
      "text/plain": [
       "<Figure size 1440x576 with 1 Axes>"
      ]
     },
     "metadata": {
      "needs_background": "light"
     },
     "output_type": "display_data"
    }
   ],
   "source": [
    "overdoses1 = overdoses1.head(20)\n",
    "overdoses1.plot(title = \"Zip Codes and Number of Overdoses\", figsize = (20,8))"
   ]
  },
  {
   "cell_type": "code",
   "execution_count": null,
   "metadata": {},
   "outputs": [],
   "source": []
  }
 ],
 "metadata": {
  "kernelspec": {
   "display_name": "Python 3",
   "language": "python",
   "name": "python3"
  },
  "language_info": {
   "codemirror_mode": {
    "name": "ipython",
    "version": 3
   },
   "file_extension": ".py",
   "mimetype": "text/x-python",
   "name": "python",
   "nbconvert_exporter": "python",
   "pygments_lexer": "ipython3",
   "version": "3.8.3"
  }
 },
 "nbformat": 4,
 "nbformat_minor": 4
}
